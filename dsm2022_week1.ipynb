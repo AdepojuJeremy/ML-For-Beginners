{
  "cells": [
    {
      "cell_type": "markdown",
      "metadata": {
        "id": "view-in-github",
        "colab_type": "text"
      },
      "source": [
        "<a href=\"https://colab.research.google.com/github/AdepojuJeremy/ML-For-Beginners/blob/main/dsm2022_week1.ipynb\" target=\"_parent\"><img src=\"https://colab.research.google.com/assets/colab-badge.svg\" alt=\"Open In Colab\"/></a>"
      ]
    },
    {
      "cell_type": "markdown",
      "id": "8454357d-2982-4ad2-8e2f-664f471f7d8a",
      "metadata": {
        "id": "8454357d-2982-4ad2-8e2f-664f471f7d8a"
      },
      "source": [
        "### DSM2022 \n",
        "### Week 1: Functions, Control structures, and Loop (For loop) "
      ]
    },
    {
      "cell_type": "markdown",
      "id": "9de3fd8d-9cc6-499b-83ee-c3050cc182e5",
      "metadata": {
        "id": "9de3fd8d-9cc6-499b-83ee-c3050cc182e5"
      },
      "source": [
        "**`A Function`** is a group of statements that exist within a program for the purpose of performing a specific task.\n",
        "The usefulness of a function include the following but not limited to\n",
        "1. avoid repititive task\n",
        "2. can be referenced any where within your workflow\n",
        "3. useful for complex tasks involving many steps\n",
        "\n",
        "    -- divide serves as divide and conquer method for large task\n",
        "4. faster development\n",
        "5. better testing\n",
        "6. easiser facilitation of teamwork"
      ]
    },
    {
      "cell_type": "markdown",
      "id": "9430fc6d-3130-47b2-b1af-a7fc78d8a22d",
      "metadata": {
        "id": "9430fc6d-3130-47b2-b1af-a7fc78d8a22d"
      },
      "source": [
        "**`Types of Functions`**\n",
        "\n",
        "1. Void Functions -when called it executes statements and terminates\n",
        "2. Value-Returning Functions- when called it executes statements then returns value back to the statement\n"
      ]
    },
    {
      "cell_type": "markdown",
      "id": "c2053c8b-2697-42aa-a30b-cbcf4aebade6",
      "metadata": {
        "id": "c2053c8b-2697-42aa-a30b-cbcf4aebade6"
      },
      "source": [
        "`Note: The input for function is called an argument which can be any data type`"
      ]
    },
    {
      "cell_type": "markdown",
      "id": "ec98eb74-bf19-43ad-8440-d034198149bd",
      "metadata": {
        "id": "ec98eb74-bf19-43ad-8440-d034198149bd"
      },
      "source": [
        "### defining and calling a void function"
      ]
    },
    {
      "cell_type": "code",
      "execution_count": 19,
      "id": "bbccaef4-b363-4055-b6c7-5fa201dbe8ff",
      "metadata": {
        "id": "bbccaef4-b363-4055-b6c7-5fa201dbe8ff"
      },
      "outputs": [],
      "source": [
        "#defining a function\n",
        "def print_myname():\n",
        "    print('My name is Thomas Torku')"
      ]
    },
    {
      "cell_type": "code",
      "execution_count": 2,
      "id": "87067866-63d0-406a-bdee-62a201eb7546",
      "metadata": {
        "colab": {
          "base_uri": "https://localhost:8080/"
        },
        "id": "87067866-63d0-406a-bdee-62a201eb7546",
        "outputId": "cdddfcd5-714f-4951-a56f-e8f62b078060"
      },
      "outputs": [
        {
          "output_type": "stream",
          "name": "stdout",
          "text": [
            "My name is Thomas Torku\n"
          ]
        }
      ],
      "source": [
        "#calling a function\n",
        "print_myname()"
      ]
    },
    {
      "cell_type": "markdown",
      "id": "1719ba64-2f56-44ac-b972-86a4b82600af",
      "metadata": {
        "id": "1719ba64-2f56-44ac-b972-86a4b82600af"
      },
      "source": [
        "### defining and calling a return-value function"
      ]
    },
    {
      "cell_type": "code",
      "execution_count": 20,
      "id": "bfc673a6-85b0-4aff-a5c6-0458ec7bbd7d",
      "metadata": {
        "id": "bfc673a6-85b0-4aff-a5c6-0458ec7bbd7d"
      },
      "outputs": [],
      "source": [
        "def print_mydetails(name, age):\n",
        "    print('My name is {} \\n'.format(name))\n",
        "    print('My age 5 years ago is {}'.format(age-5))\n",
        "    return age-5"
      ]
    },
    {
      "cell_type": "code",
      "execution_count": 22,
      "id": "7111aca3-ce8d-4ceb-b324-e595f77a4340",
      "metadata": {
        "colab": {
          "base_uri": "https://localhost:8080/"
        },
        "id": "7111aca3-ce8d-4ceb-b324-e595f77a4340",
        "outputId": "3c8f5600-f41d-445d-aab7-05a3ee5dd5e7"
      },
      "outputs": [
        {
          "output_type": "stream",
          "name": "stdout",
          "text": [
            "My name is Oluwa \n",
            "\n",
            "My age 5 years ago is 20\n"
          ]
        }
      ],
      "source": [
        "#call  the function\n",
        "val= print_mydetails('Oluwa', 25)"
      ]
    },
    {
      "cell_type": "markdown",
      "id": "d28c1dd5-02d4-4060-9d10-af76b0ddfbf6",
      "metadata": {
        "id": "d28c1dd5-02d4-4060-9d10-af76b0ddfbf6"
      },
      "source": [
        "### Short Excerise"
      ]
    },
    {
      "cell_type": "code",
      "source": [
        "#Data Types"
      ],
      "metadata": {
        "id": "OR7JzJKESLg4"
      },
      "id": "OR7JzJKESLg4",
      "execution_count": 21,
      "outputs": []
    },
    {
      "cell_type": "code",
      "source": [
        "# float\n",
        "# int \n",
        "# str \n",
        "# bolean\n",
        "# list  [1,2,3]\n",
        "# tuple (1,2,3)"
      ],
      "metadata": {
        "id": "_4opSQOxSQkn"
      },
      "id": "_4opSQOxSQkn",
      "execution_count": 23,
      "outputs": []
    },
    {
      "cell_type": "code",
      "execution_count": 24,
      "id": "85587318-c3ac-47a4-a8a5-1e6ca07c4fde",
      "metadata": {
        "id": "85587318-c3ac-47a4-a8a5-1e6ca07c4fde"
      },
      "outputs": [],
      "source": [
        "### write a function that takes two numbers as arguments and returns the outcome\n",
        "## 1. the sum of the numbers\n",
        "## 2. the product of the numbers\n",
        "## 3. the quotient of the numbers\n",
        "## 4. the difference of the numbers"
      ]
    },
    {
      "cell_type": "code",
      "source": [
        "def sum_two(x,y):\n",
        "  print(x+y)\n"
      ],
      "metadata": {
        "id": "6MEW3Zlmodkm"
      },
      "id": "6MEW3Zlmodkm",
      "execution_count": 25,
      "outputs": []
    },
    {
      "cell_type": "code",
      "source": [
        "sum_two(5,9)"
      ],
      "metadata": {
        "colab": {
          "base_uri": "https://localhost:8080/"
        },
        "id": "dxaKQMLQod7u",
        "outputId": "c76d25d7-3cfa-4cd5-85a7-04fb66ade7f0"
      },
      "id": "dxaKQMLQod7u",
      "execution_count": 26,
      "outputs": [
        {
          "output_type": "stream",
          "name": "stdout",
          "text": [
            "14\n"
          ]
        }
      ]
    },
    {
      "cell_type": "code",
      "source": [
        "def product_two(x,y):\n",
        "  print(x*y)"
      ],
      "metadata": {
        "id": "40DHUYckoeII"
      },
      "id": "40DHUYckoeII",
      "execution_count": 27,
      "outputs": []
    },
    {
      "cell_type": "code",
      "source": [
        "product_two(5,59)"
      ],
      "metadata": {
        "colab": {
          "base_uri": "https://localhost:8080/"
        },
        "id": "iVctqt0EoeQw",
        "outputId": "65b6cdc8-f058-43b5-e42f-e889b241aa23"
      },
      "id": "iVctqt0EoeQw",
      "execution_count": 28,
      "outputs": [
        {
          "output_type": "stream",
          "name": "stdout",
          "text": [
            "295\n"
          ]
        }
      ]
    },
    {
      "cell_type": "code",
      "source": [
        "def quotient_two(x,y):\n",
        "  print(x/y)"
      ],
      "metadata": {
        "id": "M4NtGrPAphyi"
      },
      "id": "M4NtGrPAphyi",
      "execution_count": 29,
      "outputs": []
    },
    {
      "cell_type": "code",
      "source": [
        "quotient_two(105,5)"
      ],
      "metadata": {
        "colab": {
          "base_uri": "https://localhost:8080/"
        },
        "id": "dEtztWaTpizR",
        "outputId": "5c890181-d366-4ad7-9b0c-1b148174b2cf"
      },
      "id": "dEtztWaTpizR",
      "execution_count": 30,
      "outputs": [
        {
          "output_type": "stream",
          "name": "stdout",
          "text": [
            "21.0\n"
          ]
        }
      ]
    },
    {
      "cell_type": "code",
      "source": [
        "def difference_two(x,y):\n",
        "  print(x-y)"
      ],
      "metadata": {
        "id": "AiwA1yF-p1qb"
      },
      "id": "AiwA1yF-p1qb",
      "execution_count": 31,
      "outputs": []
    },
    {
      "cell_type": "code",
      "source": [
        "difference_two(98,4)"
      ],
      "metadata": {
        "colab": {
          "base_uri": "https://localhost:8080/"
        },
        "id": "rNl1qJW7qdl_",
        "outputId": "ef5f0b05-28a9-4393-d74a-64acb9eb12e5"
      },
      "id": "rNl1qJW7qdl_",
      "execution_count": 32,
      "outputs": [
        {
          "output_type": "stream",
          "name": "stdout",
          "text": [
            "94\n"
          ]
        }
      ]
    },
    {
      "cell_type": "code",
      "source": [
        "def quo_two(j, k):\n",
        "  if k==0:\n",
        "    print(\"Cannot divide\")\n",
        "  else:\n",
        "    return j/k"
      ],
      "metadata": {
        "id": "GczMHWFOS7M4"
      },
      "id": "GczMHWFOS7M4",
      "execution_count": 54,
      "outputs": []
    },
    {
      "cell_type": "code",
      "source": [
        "def diff_two(x, y):\n",
        "  if x==0:\n",
        "    print(\"cannot multiply\")\n",
        "  else:\n",
        "    return x*y"
      ],
      "metadata": {
        "id": "0C8rfJSerJ_E"
      },
      "id": "0C8rfJSerJ_E",
      "execution_count": 34,
      "outputs": []
    },
    {
      "cell_type": "code",
      "source": [
        "diff_two(0,5)"
      ],
      "metadata": {
        "colab": {
          "base_uri": "https://localhost:8080/"
        },
        "id": "SutGfttJrhx1",
        "outputId": "16bac26b-1f16-4972-962b-df76779a2f9e"
      },
      "id": "SutGfttJrhx1",
      "execution_count": 35,
      "outputs": [
        {
          "output_type": "stream",
          "name": "stdout",
          "text": [
            "cannot multiply\n"
          ]
        }
      ]
    },
    {
      "cell_type": "code",
      "source": [
        "diff_two(4,57)"
      ],
      "metadata": {
        "colab": {
          "base_uri": "https://localhost:8080/"
        },
        "id": "Tr8O_MsFr4qD",
        "outputId": "62b33be7-9671-4af0-b76d-c0e7cbc8ab33"
      },
      "id": "Tr8O_MsFr4qD",
      "execution_count": 36,
      "outputs": [
        {
          "output_type": "execute_result",
          "data": {
            "text/plain": [
              "228"
            ]
          },
          "metadata": {},
          "execution_count": 36
        }
      ]
    },
    {
      "cell_type": "code",
      "source": [
        "quo_two(2, 3)"
      ],
      "metadata": {
        "colab": {
          "base_uri": "https://localhost:8080/"
        },
        "id": "X2MeXZlaVE1R",
        "outputId": "442b97c7-00ee-4a1a-e2e9-6a1f43ebcc01"
      },
      "id": "X2MeXZlaVE1R",
      "execution_count": 37,
      "outputs": [
        {
          "output_type": "execute_result",
          "data": {
            "text/plain": [
              "0.6666666666666666"
            ]
          },
          "metadata": {},
          "execution_count": 37
        }
      ]
    },
    {
      "cell_type": "code",
      "source": [
        "a =int(input(\"Enter the value of a\"))\n",
        "b =int(input(\"Enter the value of b\"))\n"
      ],
      "metadata": {
        "colab": {
          "base_uri": "https://localhost:8080/"
        },
        "id": "s3VJTEZGVddr",
        "outputId": "205c9ea0-bdc8-46c2-d1ec-55ba9c4342a4"
      },
      "id": "s3VJTEZGVddr",
      "execution_count": 38,
      "outputs": [
        {
          "name": "stdout",
          "output_type": "stream",
          "text": [
            "Enter the value of a9\n",
            "Enter the value of b5\n"
          ]
        }
      ]
    },
    {
      "cell_type": "code",
      "source": [
        "x =str(input(\"Enter your first name\"))\n",
        "y =str(input(\"Enter your second name\"))"
      ],
      "metadata": {
        "colab": {
          "base_uri": "https://localhost:8080/"
        },
        "id": "0o8n-OTLsLRa",
        "outputId": "2c424b78-e3e7-40b8-f48f-d225b01a8db2"
      },
      "id": "0o8n-OTLsLRa",
      "execution_count": 42,
      "outputs": [
        {
          "name": "stdout",
          "output_type": "stream",
          "text": [
            "Enter your first namejeremy\n",
            "Enter your second nameadepoju\n"
          ]
        }
      ]
    },
    {
      "cell_type": "code",
      "source": [
        "l =int(input(\"Enter the value of x\"))\n",
        "m =int(input(\"Enter the value of y\"))\n"
      ],
      "metadata": {
        "colab": {
          "base_uri": "https://localhost:8080/"
        },
        "id": "PMLjaiYZtZ5G",
        "outputId": "8fdf54ca-fa75-4683-aee6-ebf212013f16"
      },
      "id": "PMLjaiYZtZ5G",
      "execution_count": 45,
      "outputs": [
        {
          "name": "stdout",
          "output_type": "stream",
          "text": [
            "Enter the value of x12637483\n",
            "Enter the value of y463225\n"
          ]
        }
      ]
    },
    {
      "cell_type": "code",
      "source": [
        "diff_two(l,m)"
      ],
      "metadata": {
        "colab": {
          "base_uri": "https://localhost:8080/"
        },
        "id": "fJGM8No-tiQ5",
        "outputId": "8337cce1-f5ff-44f1-e7fb-0b192107af5c"
      },
      "id": "fJGM8No-tiQ5",
      "execution_count": 46,
      "outputs": [
        {
          "output_type": "execute_result",
          "data": {
            "text/plain": [
              "5853998062675"
            ]
          },
          "metadata": {},
          "execution_count": 46
        }
      ]
    },
    {
      "cell_type": "markdown",
      "id": "ea45dad7-e23b-41b7-b6d5-dac8093d4daf",
      "metadata": {
        "id": "ea45dad7-e23b-41b7-b6d5-dac8093d4daf"
      },
      "source": [
        "### The main function"
      ]
    },
    {
      "cell_type": "markdown",
      "id": "7d9d1d4a-60b2-4f62-adc1-b74ad19ff519",
      "metadata": {
        "id": "7d9d1d4a-60b2-4f62-adc1-b74ad19ff519"
      },
      "source": [
        "**`We use the main function to link all functions within the workflow`**"
      ]
    },
    {
      "cell_type": "code",
      "execution_count": 47,
      "id": "73f4da2d-ee07-434d-8f41-370a55ba9030",
      "metadata": {
        "id": "73f4da2d-ee07-434d-8f41-370a55ba9030",
        "outputId": "7ab09280-19a3-4e7e-a5f6-aac247a2ef45",
        "colab": {
          "base_uri": "https://localhost:8080/"
        }
      },
      "outputs": [
        {
          "output_type": "stream",
          "name": "stdout",
          "text": [
            "My name is Thomas Torku\n",
            "My name is Joseph \n",
            "\n",
            "My age 5 years ago is 40\n",
            "0.6666666666666666\n"
          ]
        }
      ],
      "source": [
        "def main():\n",
        "    print_myname()\n",
        "    print_mydetails('Joseph', 45)\n",
        "    result= quo_two(2, 3)\n",
        "    print(result)\n",
        "main()"
      ]
    },
    {
      "cell_type": "code",
      "source": [
        "main()"
      ],
      "metadata": {
        "colab": {
          "base_uri": "https://localhost:8080/"
        },
        "id": "aL43GFKgQ3QA",
        "outputId": "3ef404bd-6920-4250-93f5-c89e4b27e6a8"
      },
      "id": "aL43GFKgQ3QA",
      "execution_count": 48,
      "outputs": [
        {
          "output_type": "stream",
          "name": "stdout",
          "text": [
            "My name is Thomas Torku\n",
            "My name is Joseph \n",
            "\n",
            "My age 5 years ago is 40\n",
            "0.6666666666666666\n"
          ]
        }
      ]
    },
    {
      "cell_type": "markdown",
      "id": "95586ddf-0c11-47d8-b1ad-6b028e5a7885",
      "metadata": {
        "id": "95586ddf-0c11-47d8-b1ad-6b028e5a7885"
      },
      "source": [
        "### Local and Global Variables"
      ]
    },
    {
      "cell_type": "code",
      "execution_count": 1,
      "id": "b980ba08-22a5-461f-97e8-7e8d1a7e2079",
      "metadata": {
        "id": "b980ba08-22a5-461f-97e8-7e8d1a7e2079",
        "outputId": "40b4f82d-f597-441a-920c-cd8a7ab76021",
        "colab": {
          "base_uri": "https://localhost:8080/"
        }
      },
      "outputs": [
        {
          "output_type": "stream",
          "name": "stdout",
          "text": [
            "The number of MTSU students is 20000\n",
            "The number of APSU students 3000\n"
          ]
        }
      ],
      "source": [
        "##Get the number of students in two schools in TN\n",
        "def mtsu():\n",
        "    #local variable\n",
        "    num =20000\n",
        "    print('The number of MTSU students is', num)\n",
        "def apsu():\n",
        "    num =3000\n",
        "    print('The number of APSU students', num)\n",
        "\n",
        "def main():\n",
        "    mtsu()\n",
        "    apsu()\n",
        "main()"
      ]
    },
    {
      "cell_type": "code",
      "execution_count": 10,
      "id": "abeb13bb-c6ee-4c3e-88c5-0b1ff95d83ea",
      "metadata": {
        "id": "abeb13bb-c6ee-4c3e-88c5-0b1ff95d83ea",
        "outputId": "abbd773b-0921-4000-ab4f-0c904f45cec7",
        "colab": {
          "base_uri": "https://localhost:8080/"
        }
      },
      "outputs": [
        {
          "name": "stdout",
          "output_type": "stream",
          "text": [
            "The state in which my university is located \t osun\n"
          ]
        }
      ],
      "source": [
        "#global variable\n",
        "state =input('The state in which my university is located \\t ')"
      ]
    },
    {
      "cell_type": "code",
      "execution_count": 11,
      "id": "87cdd646-3af5-477f-a571-bcc7e1a32972",
      "metadata": {
        "id": "87cdd646-3af5-477f-a571-bcc7e1a32972",
        "outputId": "5b8bc3b5-62b8-430a-a221-0c205565a782",
        "colab": {
          "base_uri": "https://localhost:8080/"
        }
      },
      "outputs": [
        {
          "output_type": "stream",
          "name": "stdout",
          "text": [
            "Your school is located in the State of  osun\n",
            "Their school is located in the State of  osun\n"
          ]
        }
      ],
      "source": [
        "def your_school():\n",
        "    print('Your school is located in the State of ', state)\n",
        "def their_school():\n",
        "    print('Their school is located in the State of ', state)\n",
        "\n",
        "def main():\n",
        "    your_school()\n",
        "    their_school()\n",
        "main()"
      ]
    },
    {
      "cell_type": "code",
      "execution_count": 12,
      "id": "408ef13b-f9de-493b-be3a-53cbd247dcaf",
      "metadata": {
        "id": "408ef13b-f9de-493b-be3a-53cbd247dcaf"
      },
      "outputs": [],
      "source": [
        "##write a function that doubles a number\n",
        "def double(num):\n",
        "    return 2*num"
      ]
    },
    {
      "cell_type": "code",
      "execution_count": 13,
      "id": "e4253a9e-a4bc-4c40-9de6-1d979f5b69f5",
      "metadata": {
        "id": "e4253a9e-a4bc-4c40-9de6-1d979f5b69f5",
        "outputId": "1fec355c-88a7-4601-cdfb-1d9606d03082",
        "colab": {
          "base_uri": "https://localhost:8080/"
        }
      },
      "outputs": [
        {
          "output_type": "execute_result",
          "data": {
            "text/plain": [
              "80"
            ]
          },
          "metadata": {},
          "execution_count": 13
        }
      ],
      "source": [
        "double(40)"
      ]
    },
    {
      "cell_type": "code",
      "source": [
        "def my_fucntion(num):\n",
        "  return  3*num\n",
        " \n",
        "\n",
        " "
      ],
      "metadata": {
        "id": "4maf6ARJrIQw"
      },
      "id": "4maf6ARJrIQw",
      "execution_count": 11,
      "outputs": []
    },
    {
      "cell_type": "code",
      "source": [
        "my_fucntion(100)"
      ],
      "metadata": {
        "colab": {
          "base_uri": "https://localhost:8080/"
        },
        "id": "rlkg4Vp_rnvX",
        "outputId": "763595dc-3c9b-4481-8bb6-9ba85f7cf919"
      },
      "id": "rlkg4Vp_rnvX",
      "execution_count": 13,
      "outputs": [
        {
          "output_type": "execute_result",
          "data": {
            "text/plain": [
              "300"
            ]
          },
          "metadata": {},
          "execution_count": 13
        }
      ]
    },
    {
      "cell_type": "code",
      "source": [
        "def my_function(x):\n",
        "  return  3*x\n",
        " \n",
        "print(my_function(100))\n",
        " "
      ],
      "metadata": {
        "colab": {
          "base_uri": "https://localhost:8080/"
        },
        "id": "8AFqidM4te4C",
        "outputId": "b08de420-e1bc-4f89-81ae-7cff8de880e7"
      },
      "id": "8AFqidM4te4C",
      "execution_count": 14,
      "outputs": [
        {
          "output_type": "stream",
          "name": "stdout",
          "text": [
            "300\n"
          ]
        }
      ]
    },
    {
      "cell_type": "code",
      "source": [
        "def myfunction():\n",
        "  pass\n"
      ],
      "metadata": {
        "id": "pd_hMvaUtolH"
      },
      "id": "pd_hMvaUtolH",
      "execution_count": 15,
      "outputs": []
    },
    {
      "cell_type": "code",
      "source": [
        "def tri_recursion(k):\n",
        "    if (k>0):\n",
        "        result = k + tri_recursion(k-1)\n",
        "        print(result)\n",
        "    else:\n",
        "        result = 0\n",
        "    return result\n",
        " \n",
        "print(\"\\n\\nRecursion Example Results\")\n",
        "tri_recursion(6)"
      ],
      "metadata": {
        "colab": {
          "base_uri": "https://localhost:8080/"
        },
        "id": "JoniqxO1IcZS",
        "outputId": "b24e3d3f-9026-46e7-cb24-900f7b363a50"
      },
      "id": "JoniqxO1IcZS",
      "execution_count": 16,
      "outputs": [
        {
          "output_type": "stream",
          "name": "stdout",
          "text": [
            "\n",
            "\n",
            "Recursion Example Results\n",
            "1\n",
            "3\n",
            "6\n",
            "10\n",
            "15\n",
            "21\n"
          ]
        },
        {
          "output_type": "execute_result",
          "data": {
            "text/plain": [
              "21"
            ]
          },
          "metadata": {},
          "execution_count": 16
        }
      ]
    },
    {
      "cell_type": "code",
      "execution_count": 14,
      "id": "1dec401f-12a0-4077-9af1-854f25a88960",
      "metadata": {
        "id": "1dec401f-12a0-4077-9af1-854f25a88960",
        "outputId": "bc0bcb46-e011-4563-d196-f9cbc88ee62a",
        "colab": {
          "base_uri": "https://localhost:8080/"
        }
      },
      "outputs": [
        {
          "output_type": "stream",
          "name": "stdout",
          "text": [
            "Enter the number of cups2\n",
            "Convert... cups to fluids\n",
            "1 cup  is 8 ounces\n",
            "2 cup(s) is eqivalent to 16 ounces\n"
          ]
        }
      ],
      "source": [
        "#Write a program that converts the number of cups to fluids\n",
        "#1 cup =8 ounces\n",
        "def intro():\n",
        "    print(\"Convert... cups to fluids\")\n",
        "    print(\"1 cup  is 8 ounces\")\n",
        "    \n",
        "def cup_to_ounce(cup):\n",
        "    out =cup*8\n",
        "    print(\"{} cup(s) is eqivalent to {} ounces\".format(cup, out))\n",
        "    return out\n",
        "\n",
        "cup =int(input(\"Enter the number of cups\"))\n",
        "def main():\n",
        "    intro()\n",
        "    cup_to_ounce(cup)\n",
        "main()"
      ]
    },
    {
      "cell_type": "code",
      "source": [
        ""
      ],
      "metadata": {
        "id": "1sISVdr7tkrW"
      },
      "id": "1sISVdr7tkrW",
      "execution_count": null,
      "outputs": []
    },
    {
      "cell_type": "code",
      "execution_count": 15,
      "id": "646d27c7-fe3a-4436-8844-d2cbeea6f79d",
      "metadata": {
        "id": "646d27c7-fe3a-4436-8844-d2cbeea6f79d",
        "outputId": "3fd85821-7475-49c7-8ce7-aa8b12c77396",
        "colab": {
          "base_uri": "https://localhost:8080/"
        }
      },
      "outputs": [
        {
          "output_type": "stream",
          "name": "stdout",
          "text": [
            "Enter your first name \tjerry\n",
            "Enter your last name \tadepoju\n",
            "Your full name is jerry adepoju\n",
            "Your reversed name is adepoju jerry\n"
          ]
        }
      ],
      "source": [
        "\n",
        "#write a program that reverses your name-last and first name\n",
        "def given_names(first, last):\n",
        "    print(\"Your full name is {} {}\".format(first, last))\n",
        "def reverese_order(last, first):\n",
        "    print(\"Your reversed name is {} {}\".format(last, first))\n",
        "    \n",
        "first =input(\"Enter your first name \\t\")\n",
        "last =input(\"Enter your last name \\t\")\n",
        "    \n",
        "def main():\n",
        "    given_names(first, last)\n",
        "    reverese_order(last, first)\n",
        "main()"
      ]
    },
    {
      "cell_type": "code",
      "execution_count": 16,
      "id": "8448c35a-3940-4542-8dd4-39dbb75fb9de",
      "metadata": {
        "id": "8448c35a-3940-4542-8dd4-39dbb75fb9de",
        "outputId": "a6639e67-9c03-4516-a32d-2fd026f80c1e",
        "colab": {
          "base_uri": "https://localhost:8080/"
        }
      },
      "outputs": [
        {
          "output_type": "stream",
          "name": "stdout",
          "text": [
            "The calculated interest is $180.00\n",
            "The total amount to be paid $2180.00\n"
          ]
        }
      ],
      "source": [
        "#write a program that calculates the total amount to be paid from taking a loan at an interest rate\n",
        "def simple_interest(P, r, t):\n",
        "    I =P*r*t\n",
        "    print(\"The calculated interest is ${:.2f}\".format(I))\n",
        "    return I\n",
        "def calc_amount(P, I):\n",
        "    A =P+I\n",
        "    print(\"The total amount to be paid ${:.2f}\".format(A))\n",
        "    return A\n",
        " \n",
        "P=2000.00\n",
        "# P =float(input(\"Enter the principal amount \\t \"))\n",
        "r =0.03 #3%\n",
        "t =3\n",
        "\n",
        "def main():\n",
        "    I=simple_interest(P, r,t)\n",
        "    A= calc_amount(P, I)\n",
        "main()"
      ]
    },
    {
      "cell_type": "markdown",
      "id": "a33d8537-b9b3-4570-a02a-659a74a6bbf1",
      "metadata": {
        "id": "a33d8537-b9b3-4570-a02a-659a74a6bbf1"
      },
      "source": [
        "### Introduction to some commonly used Packages"
      ]
    },
    {
      "cell_type": "code",
      "execution_count": 3,
      "id": "8683a7e5-e214-4c7f-8e19-de080587362a",
      "metadata": {
        "id": "8683a7e5-e214-4c7f-8e19-de080587362a"
      },
      "outputs": [],
      "source": [
        "import math\n",
        "import random   #random generator"
      ]
    },
    {
      "cell_type": "code",
      "source": [
        "math.cos(30)\n"
      ],
      "metadata": {
        "colab": {
          "base_uri": "https://localhost:8080/"
        },
        "id": "4z1-fOQafz2M",
        "outputId": "3de4fad7-a426-4e13-bf73-37134eb1a7d3"
      },
      "id": "4z1-fOQafz2M",
      "execution_count": 4,
      "outputs": [
        {
          "output_type": "execute_result",
          "data": {
            "text/plain": [
              "0.15425144988758405"
            ]
          },
          "metadata": {},
          "execution_count": 4
        }
      ]
    },
    {
      "cell_type": "code",
      "source": [
        "random.seed(10)"
      ],
      "metadata": {
        "id": "vsKnR6mbgVkn"
      },
      "id": "vsKnR6mbgVkn",
      "execution_count": 5,
      "outputs": []
    },
    {
      "cell_type": "code",
      "execution_count": null,
      "id": "13e33586-c359-4edd-9430-67692fc062d4",
      "metadata": {
        "id": "13e33586-c359-4edd-9430-67692fc062d4",
        "outputId": "98dcfe40-4fb1-499a-b478-6ebe4c1f7d03",
        "colab": {
          "base_uri": "https://localhost:8080/"
        }
      },
      "outputs": [
        {
          "output_type": "execute_result",
          "data": {
            "text/plain": [
              "74"
            ]
          },
          "metadata": {},
          "execution_count": 39
        }
      ],
      "source": [
        "random.randint(1,100)"
      ]
    },
    {
      "cell_type": "code",
      "execution_count": 8,
      "id": "2654ed3b-70d2-4769-8891-716e313c3162",
      "metadata": {
        "id": "2654ed3b-70d2-4769-8891-716e313c3162"
      },
      "outputs": [],
      "source": [
        "#Generate five random numbers\n",
        "arr =[] #list \n",
        "for i in range(5):\n",
        "    arr.append(random.randint(1,100))"
      ]
    },
    {
      "cell_type": "code",
      "execution_count": 9,
      "id": "ce41b02b-878a-434b-9ced-6440dee11c2b",
      "metadata": {
        "id": "ce41b02b-878a-434b-9ced-6440dee11c2b",
        "outputId": "df6563b5-e187-45e5-b001-bc0928df7beb",
        "colab": {
          "base_uri": "https://localhost:8080/"
        }
      },
      "outputs": [
        {
          "output_type": "execute_result",
          "data": {
            "text/plain": [
              "[18, 73, 98, 9, 33]"
            ]
          },
          "metadata": {},
          "execution_count": 9
        }
      ],
      "source": [
        "arr"
      ]
    },
    {
      "cell_type": "code",
      "execution_count": 10,
      "id": "ec8be338-bd11-466c-ac24-edabbe88caf0",
      "metadata": {
        "id": "ec8be338-bd11-466c-ac24-edabbe88caf0"
      },
      "outputs": [],
      "source": [
        "##use random.seed() to have the same random value "
      ]
    },
    {
      "cell_type": "markdown",
      "id": "fc17d5dd-2ef8-43bf-aa0e-b6d79445d182",
      "metadata": {
        "id": "fc17d5dd-2ef8-43bf-aa0e-b6d79445d182"
      },
      "source": [
        "###  Questions"
      ]
    },
    {
      "cell_type": "code",
      "execution_count": null,
      "id": "1272c528-7d09-4bfe-aa1b-d93333665a53",
      "metadata": {
        "id": "1272c528-7d09-4bfe-aa1b-d93333665a53"
      },
      "outputs": [],
      "source": [
        "#Write a program that computes the retail price given the price and the percent of discount"
      ]
    },
    {
      "cell_type": "code",
      "execution_count": null,
      "id": "0716ca57-041e-41ff-8fad-5741eb8f2091",
      "metadata": {
        "id": "0716ca57-041e-41ff-8fad-5741eb8f2091"
      },
      "outputs": [],
      "source": [
        "#"
      ]
    }
  ],
  "metadata": {
    "kernelspec": {
      "display_name": "Python 3",
      "language": "python",
      "name": "python3"
    },
    "language_info": {
      "codemirror_mode": {
        "name": "ipython",
        "version": 3
      },
      "file_extension": ".py",
      "mimetype": "text/x-python",
      "name": "python",
      "nbconvert_exporter": "python",
      "pygments_lexer": "ipython3",
      "version": "3.8.8"
    },
    "colab": {
      "name": "dsm2022_week1.ipynb",
      "provenance": [],
      "collapsed_sections": [],
      "include_colab_link": true
    }
  },
  "nbformat": 4,
  "nbformat_minor": 5
}